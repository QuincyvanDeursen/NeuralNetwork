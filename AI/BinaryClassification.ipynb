{
 "cells": [
  {
   "cell_type": "markdown",
   "metadata": {},
   "source": [
    "### Imports"
   ]
  },
  {
   "cell_type": "code",
   "execution_count": 32,
   "metadata": {},
   "outputs": [],
   "source": [
    "import tensorflow as tf\n",
    "import numpy as np\n",
    "import seaborn as sns\n",
    "import matplotlib.pyplot as plt\n",
    "from sklearn.metrics import confusion_matrix\n",
    "from sklearn import metrics\n"
   ]
  },
  {
   "cell_type": "markdown",
   "metadata": {},
   "source": [
    "###  Data verkrijgen"
   ]
  },
  {
   "cell_type": "code",
   "execution_count": 33,
   "metadata": {},
   "outputs": [
    {
     "name": "stdout",
     "output_type": "stream",
     "text": [
      "=====================================\n",
      "Data ophalen en voorbereiden\n",
      "Data:\n",
      "Train data (60000, 28, 28)\n",
      "Test data (10000, 28, 28)\n",
      "Unieke waarden in y_train: [0 1 2 3 4 5 6 7 8 9]\n",
      "Unieke waarden in y_test: [0 1 2 3 4 5 6 7 8 9]\n",
      "=====================================\n"
     ]
    }
   ],
   "source": [
    "print(\"=====================================\")\n",
    "print(\"Data ophalen en voorbereiden\")\n",
    "\n",
    "mnist = tf.keras.datasets.mnist\n",
    "\n",
    "# 'x' is pixel data, 'y' is de classificatie (een nummer in dit geval)\n",
    "(x_train, y_train), (x_test, y_test) = mnist.load_data()\n",
    "\n",
    "# Record verdeling in train en test data\n",
    "print(f\"Data:\")\n",
    "print(f\"Train data {x_train.shape}\")\n",
    "print(f\"Test data {x_test.shape}\")\n",
    "print(f\"Unieke waarden in y_train: {np.unique(y_train)}\")\n",
    "print(f\"Unieke waarden in y_test: {np.unique(y_test)}\")\n",
    "print(\"=====================================\")\n"
   ]
  },
  {
   "cell_type": "markdown",
   "metadata": {},
   "source": [
    "### Data Bewerken"
   ]
  },
  {
   "cell_type": "code",
   "execution_count": 34,
   "metadata": {},
   "outputs": [
    {
     "name": "stdout",
     "output_type": "stream",
     "text": [
      "=====================================\n",
      "Data bewerken voor binary classificatie\n",
      "Data na omzetten naar binary:\n",
      "Train {0: 53258, 1: 6742}\n",
      "Test {0: 8865, 1: 1135}\n",
      "=====================================\n"
     ]
    }
   ],
   "source": [
    "print(\"=====================================\")\n",
    "print(\"Data bewerken voor binary classificatie\")\n",
    "# Normaliseer de data van 0-255 naar 0-1\n",
    "x_train = tf.keras.utils.normalize(x_train, axis=1)\n",
    "x_test = tf.keras.utils.normalize(x_test, axis=1)\n",
    "# Binary classificatie: 1 of niet 1\n",
    "y_train_binary = np.where(y_train == 1, 1, 0)\n",
    "y_test_binary = np.where(y_test == 1, 1, 0)\n",
    "\n",
    "print(\"Data na omzetten naar binary:\")\n",
    "# Print de unieke waarden en hun frequenties in y_train_binary\n",
    "unique, counts = np.unique(y_train_binary, return_counts=True)\n",
    "print(f\"Train {dict(zip(unique, counts))}\")\n",
    "# Print de unieke waarden en hun frequenties in y_test_binary\n",
    "unique, counts = np.unique(y_test_binary, return_counts=True)\n",
    "print(f\"Test {dict(zip(unique, counts))}\")\n",
    "print(\"=====================================\")"
   ]
  },
  {
   "cell_type": "markdown",
   "metadata": {},
   "source": [
    "### Model Maken (binary)"
   ]
  },
  {
   "cell_type": "code",
   "execution_count": 35,
   "metadata": {},
   "outputs": [
    {
     "name": "stdout",
     "output_type": "stream",
     "text": [
      "=====================================\n",
      "Model maken en trainen\n",
      "\u001b[1m1875/1875\u001b[0m \u001b[32m━━━━━━━━━━━━━━━━━━━━\u001b[0m\u001b[37m\u001b[0m \u001b[1m3s\u001b[0m 1ms/step - accuracy: 0.9500 - loss: 0.1443 - val_accuracy: 0.9928 - val_loss: 0.0512\n",
      "=====================================\n"
     ]
    }
   ],
   "source": [
    "print(\"=====================================\")\n",
    "print(\"Model maken en trainen\")\n",
    "\n",
    "model = tf.keras.models.Sequential()\n",
    "model.add(tf.keras.Input(shape=(28, 28)))\n",
    "model.add(tf.keras.layers.Flatten())\n",
    "model.add(tf.keras.layers.Dense(4, activation=tf.nn.relu))\n",
    "model.add(tf.keras.layers.Dense(1, activation='sigmoid'))\n",
    "\n",
    "model.compile(optimizer='adam', loss='binary_crossentropy', metrics=['accuracy']) \n",
    "\n",
    "model.fit(x_train, y_train_binary, epochs=1, validation_data=(x_test, y_test_binary))\n",
    "\n",
    "print(\"=====================================\")\n"
   ]
  },
  {
   "cell_type": "markdown",
   "metadata": {},
   "source": [
    "### Model Evaluatie"
   ]
  },
  {
   "cell_type": "code",
   "execution_count": 36,
   "metadata": {},
   "outputs": [
    {
     "name": "stdout",
     "output_type": "stream",
     "text": [
      "=====================================\n",
      "Model evaluatie op gefilterde testdata\n",
      "\u001b[1m313/313\u001b[0m \u001b[32m━━━━━━━━━━━━━━━━━━━━\u001b[0m\u001b[37m\u001b[0m \u001b[1m0s\u001b[0m 786us/step - accuracy: 0.9937 - loss: 0.0527\n",
      "\u001b[1m313/313\u001b[0m \u001b[32m━━━━━━━━━━━━━━━━━━━━\u001b[0m\u001b[37m\u001b[0m \u001b[1m0s\u001b[0m 830us/step\n",
      "AUROC Validatie: 0.9732755900425124\n",
      "Validation loss: 0.0512402169406414\n",
      "Validation accuracy: 0.9927999973297119\n",
      "Verwachten aantal fouten op testdata 72.00002670288086\n",
      "=====================================\n"
     ]
    }
   ],
   "source": [
    "print(\"=====================================\")\n",
    "print(\"Model evaluatie op gefilterde testdata\")\n",
    "\n",
    "# Evaluatie van het model op gefilterde testdata\n",
    "val_loss, val_acc = model.evaluate(x_test, y_test_binary)\n",
    "\n",
    "#Auroc Evaluatie\n",
    "predictions = model.predict(x_test)\n",
    "predictions = np.where(predictions > 0.5, 1, 0)\n",
    "test_labels = y_test_binary\n",
    "roc_auc = metrics.roc_auc_score(test_labels, predictions)\n",
    "print(f\"AUROC Validatie: {roc_auc}\")\n",
    "\n",
    "print(f\"Validation loss: {val_loss}\")\n",
    "print(f\"Validation accuracy: {val_acc}\")\n",
    "print(f\"Verwachten aantal fouten op testdata {len(y_test_binary) * (1 - val_acc)}\")\n",
    "print(\"=====================================\")\n"
   ]
  },
  {
   "cell_type": "markdown",
   "metadata": {},
   "source": [
    "### Verwarrings Matrix"
   ]
  },
  {
   "cell_type": "code",
   "execution_count": 37,
   "metadata": {},
   "outputs": [
    {
     "name": "stdout",
     "output_type": "stream",
     "text": [
      "=====================================\n",
      "Voorspellingen maken en fouten analyseren\n",
      "\u001b[1m313/313\u001b[0m \u001b[32m━━━━━━━━━━━━━━━━━━━━\u001b[0m\u001b[37m\u001b[0m \u001b[1m0s\u001b[0m 747us/step\n"
     ]
    },
    {
     "data": {
      "image/png": "[encoded data removed]",
      "text/plain": [
       "<Figure size 1000x700 with 2 Axes>"
      ]
     },
     "metadata": {},
     "output_type": "display_data"
    }
   ],
   "source": [
    "print(\"=====================================\")\n",
    "print(\"Voorspellingen maken en fouten analyseren\")\n",
    "# Maak voorspellingen\n",
    "y_pred = model.predict(x_test)\n",
    "y_pred_binary = (y_pred > 0.5).astype(int)\n",
    "\n",
    "# Genereer de verwarringsmatrix\n",
    "cm = confusion_matrix(y_test_binary, y_pred_binary)\n",
    "\n",
    "# Visualiseer de verwarringsmatrix\n",
    "plt.figure(figsize=(10, 7))\n",
    "sns.heatmap(cm, annot=True, fmt='d', cmap='Blues', xticklabels=['Niet-1', 'wel-1'], yticklabels=['Niet-1', 'wel-1'])\n",
    "plt.xlabel('Voorspelde labels')\n",
    "plt.ylabel('Werkelijke labels')\n",
    "plt.title('Verwarringsmatrix')\n",
    "plt.show()"
   ]
  }
 ],
 "metadata": {
  "kernelspec": {
   "display_name": "Python 3",
   "language": "python",
   "name": "python3"
  },
  "language_info": {
   "codemirror_mode": {
    "name": "ipython",
    "version": 3
   },
   "file_extension": ".py",
   "mimetype": "text/x-python",
   "name": "python",
   "nbconvert_exporter": "python",
   "pygments_lexer": "ipython3",
   "version": "3.11.4"
  }
 },
 "nbformat": 4,
 "nbformat_minor": 2
}
